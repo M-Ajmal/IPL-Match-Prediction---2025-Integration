{
 "cells": [
  {
   "cell_type": "code",
   "execution_count": 2,
   "id": "07fbf855-95c6-4f7e-8f42-5806a21297a7",
   "metadata": {},
   "outputs": [
    {
     "name": "stdout",
     "output_type": "stream",
     "text": [
      "✔ Saved: chennai-super-kings\n",
      "✔ Saved: delhi-capitals\n",
      "✔ Saved: gujarat-titans\n",
      "✔ Saved: kolkata-knight-riders\n",
      "✔ Saved: lucknow-super-giants\n",
      "✔ Saved: mumbai-indians\n",
      "✔ Saved: punjab-kings\n",
      "✔ Saved: rajasthan-royals\n",
      "✔ Saved: royal-challengers-bengaluru\n",
      "✔ Saved: sunrisers-hyderabad\n",
      "\n",
      "✅ All done! Data saved to: Ipl Matches (2025)\\team_details.csv\n"
     ]
    }
   ],
   "source": [
    "import requests\n",
    "from bs4 import BeautifulSoup\n",
    "import csv\n",
    "import os\n",
    "\n",
    "# List of team URLs\n",
    "teams = [\n",
    "    \"chennai-super-kings\", \"delhi-capitals\", \"gujarat-titans\", \"kolkata-knight-riders\",\n",
    "    \"lucknow-super-giants\", \"mumbai-indians\", \"punjab-kings\", \"rajasthan-royals\",\n",
    "    \"royal-challengers-bengaluru\", \"sunrisers-hyderabad\"\n",
    "]\n",
    "\n",
    "base_url = \"https://www.iplt20.com/teams/\"\n",
    "headers = {\n",
    "    \"User-Agent\": \"Mozilla/5.0\"\n",
    "}\n",
    "\n",
    "# Create folder if not exists\n",
    "folder_name = \"Ipl Matches (2025)\"\n",
    "os.makedirs(folder_name, exist_ok=True)\n",
    "csv_file_path = os.path.join(folder_name, \"team_details.csv\")\n",
    "\n",
    "# Write to CSV\n",
    "with open(csv_file_path, mode=\"w\", newline=\"\", encoding=\"utf-8\") as file:\n",
    "    writer = csv.writer(file)\n",
    "    writer.writerow([\"Team\", \"Captain\", \"Coach\", \"Owner\", \"Venue\"])\n",
    "\n",
    "    for team in teams:\n",
    "        url = base_url + team\n",
    "        res = requests.get(url, headers=headers)\n",
    "\n",
    "        if res.status_code == 200:\n",
    "            soup = BeautifulSoup(res.text, 'html.parser')\n",
    "            text = soup.get_text()\n",
    "\n",
    "            try:\n",
    "                captain = text.split(\"Captain -\")[1].split(\"\\n\")[0].strip()\n",
    "                coach = text.split(\"Coach -\")[1].split(\"\\n\")[0].strip()\n",
    "                owner = text.split(\"Owner -\")[1].split(\"\\n\")[0].strip()\n",
    "                venue = text.split(\"Venue -\")[1].split(\"\\n\")[0].strip()\n",
    "\n",
    "                writer.writerow([\n",
    "                    team.replace(\"-\", \" \").title(),\n",
    "                    captain, coach, owner, venue\n",
    "                ])\n",
    "                print(f\"✔ Saved: {team}\")\n",
    "            except IndexError:\n",
    "                print(f\"⚠️ Could not extract all details for {team}\")\n",
    "        else:\n",
    "            print(f\"❌ Failed to fetch: {team}\")\n",
    "\n",
    "print(f\"\\n✅ All done! Data saved to: {csv_file_path}\")\n"
   ]
  }
 ],
 "metadata": {
  "kernelspec": {
   "display_name": "Python 3 (ipykernel)",
   "language": "python",
   "name": "python3"
  },
  "language_info": {
   "codemirror_mode": {
    "name": "ipython",
    "version": 3
   },
   "file_extension": ".py",
   "mimetype": "text/x-python",
   "name": "python",
   "nbconvert_exporter": "python",
   "pygments_lexer": "ipython3",
   "version": "3.9.6"
  }
 },
 "nbformat": 4,
 "nbformat_minor": 5
}
